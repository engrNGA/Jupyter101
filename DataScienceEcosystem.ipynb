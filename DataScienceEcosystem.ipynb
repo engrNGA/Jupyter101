{
 "cells": [
  {
   "cell_type": "markdown",
   "id": "10b7b515",
   "metadata": {},
   "source": [
    "**Data Science Tools and Ecosystem\n"
   ]
  },
  {
   "cell_type": "markdown",
   "id": "ce2dba2a",
   "metadata": {},
   "source": [
    "# Data Science Tools and Ecosystem"
   ]
  },
  {
   "cell_type": "markdown",
   "id": "0b9b3c46",
   "metadata": {},
   "source": [
    "In this notebook, Data Science Tools and Ecosystem are summarized."
   ]
  },
  {
   "cell_type": "markdown",
   "id": "60a076c5",
   "metadata": {},
   "source": [
    "Some of the popular languages that Data Scientists use are: <ol>\n",
    "    1. Python\n",
    "    2. R\n",
    "    3. SQL"
   ]
  },
  {
   "cell_type": "markdown",
   "id": "7b5ad7e4",
   "metadata": {},
   "source": [
    "Some of the popular languagees that Data Scientists use are: <ol>\n",
    "    1. Python <ol>\n",
    "    2. R <ol>\n",
    "    3. SQL <ol>"
   ]
  },
  {
   "cell_type": "markdown",
   "id": "8ac36ae1",
   "metadata": {},
   "source": [
    "Some of the commonly used libraries used by Data Scientists include: <ol>\n",
    "    1. Scikit learn <ol>\n",
    "    2. tensorflow <ol>\n",
    "    3. Seaborn <ol>\n",
    "    4. matplotlib <ol>"
   ]
  },
  {
   "cell_type": "markdown",
   "id": "7bba86eb",
   "metadata": {},
   "source": [
    "|Data Science Tools|\n",
    "|---|\n",
    "|MySQL|\n",
    "|Apache Airflow|\n",
    "|Github|\n",
    "|RStudio|"
   ]
  },
  {
   "cell_type": "markdown",
   "id": "0e93e7ee",
   "metadata": {},
   "source": [
    "# Data Science Tools and Ecosystem\n"
   ]
  },
  {
   "cell_type": "markdown",
   "id": "8f9be430",
   "metadata": {},
   "source": [
    "In this notebook, Data Science Tools and Ecosystem are summarized"
   ]
  },
  {
   "cell_type": "markdown",
   "id": "505a5419",
   "metadata": {},
   "source": [
    "Some of the popular languages that Data Scientists use are: <ol>\n",
    "    1. Python 2. R 3. SQL <ol>"
   ]
  },
  {
   "cell_type": "markdown",
   "id": "d28c7b87",
   "metadata": {},
   "source": [
    "Some of the popular languages that Data Scientists use are: <ol>\n",
    "    1. Python <ol>\n",
    "    2. R <ol>\n",
    "    3. SQL <ol>"
   ]
  },
  {
   "cell_type": "markdown",
   "id": "badcbf27",
   "metadata": {},
   "source": [
    "Some of the commonly used libraries used by Data Scientists include: <ol>\n",
    "    1. Scikit learn <ol>\n",
    "    2. tensorflow <ol>\n",
    "    3. Seaborn <ol>\n",
    "    4. matplotlib <ol>"
   ]
  },
  {
   "cell_type": "markdown",
   "id": "312b47a0",
   "metadata": {},
   "source": [
    "|Data Science Tools|\n",
    "|---|\n",
    "|MySQL|\n",
    "|Apache Airflow|\n",
    "|Github|\n",
    "|RStudio|\n",
    "|Jupyter Notebook|"
   ]
  },
  {
   "cell_type": "markdown",
   "id": "57e38bff",
   "metadata": {},
   "source": [
    "### Below are a few examples of evaluating arithmetic expressions in Python"
   ]
  },
  {
   "cell_type": "code",
   "execution_count": 1,
   "id": "f249d97d",
   "metadata": {},
   "outputs": [
    {
     "data": {
      "text/plain": [
       "17"
      ]
     },
     "execution_count": 1,
     "metadata": {},
     "output_type": "execute_result"
    }
   ],
   "source": []
  },
  {
   "cell_type": "code",
   "execution_count": 2,
   "id": "d70a7ece",
   "metadata": {},
   "outputs": [
    {
     "data": {
      "text/plain": [
       "17"
      ]
     },
     "execution_count": 2,
     "metadata": {},
     "output_type": "execute_result"
    }
   ],
   "source": [
    "# This is a simple arithmetic expression to multiply then add integers\n",
    "(3*4)+5"
   ]
  },
  {
   "cell_type": "code",
   "execution_count": 3,
   "id": "a7ad4efc",
   "metadata": {},
   "outputs": [
    {
     "data": {
      "text/plain": [
       "3.3333333333333335"
      ]
     },
     "execution_count": 3,
     "metadata": {},
     "output_type": "execute_result"
    }
   ],
   "source": [
    "#This will convert 200 minutes to hours by dividing by 60\n",
    "200/60"
   ]
  },
  {
   "cell_type": "markdown",
   "id": "0eea382e",
   "metadata": {},
   "source": [
    "**Objectives**\n",
    "- List Popular languages for Data Science\n",
    "- List commonly used libraries by Data Scientists\n",
    "- Create a new Jupyter Notebook\n",
    "- Perform arithmetic operations using code cell\n",
    "- Create a single column table"
   ]
  },
  {
   "cell_type": "markdown",
   "id": "707d511d",
   "metadata": {},
   "source": [
    "## Author\n",
    "Rashid Bakare"
   ]
  },
  {
   "cell_type": "code",
   "execution_count": null,
   "id": "16887d23",
   "metadata": {},
   "outputs": [],
   "source": []
  }
 ],
 "metadata": {
  "kernelspec": {
   "display_name": "Python 3 (ipykernel)",
   "language": "python",
   "name": "python3"
  },
  "language_info": {
   "codemirror_mode": {
    "name": "ipython",
    "version": 3
   },
   "file_extension": ".py",
   "mimetype": "text/x-python",
   "name": "python",
   "nbconvert_exporter": "python",
   "pygments_lexer": "ipython3",
   "version": "3.10.9"
  }
 },
 "nbformat": 4,
 "nbformat_minor": 5
}
